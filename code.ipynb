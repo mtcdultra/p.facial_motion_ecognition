{
 "cells": [
  {
   "cell_type": "code",
   "execution_count": 4,
   "metadata": {},
   "outputs": [
    {
     "ename": "FileNotFoundError",
     "evalue": "[Errno 2] No such file or directory: 'm003_sad_024-analyses_v2.json'",
     "output_type": "error",
     "traceback": [
      "\u001b[0;31m---------------------------------------------------------------------------\u001b[0m",
      "\u001b[0;31mFileNotFoundError\u001b[0m                         Traceback (most recent call last)",
      "Cell \u001b[0;32mIn [4], line 4\u001b[0m\n\u001b[1;32m      1\u001b[0m \u001b[39mfrom\u001b[39;00m \u001b[39mcollections\u001b[39;00m \u001b[39mimport\u001b[39;00m Counter\n\u001b[1;32m      2\u001b[0m \u001b[39mimport\u001b[39;00m \u001b[39mjson\u001b[39;00m\n\u001b[0;32m----> 4\u001b[0m \u001b[39mwith\u001b[39;00m \u001b[39mopen\u001b[39;49m(\u001b[39m\"\u001b[39;49m\u001b[39mm003_sad_024-analyses_v2.json\u001b[39;49m\u001b[39m\"\u001b[39;49m, encoding\u001b[39m=\u001b[39;49m\u001b[39m'\u001b[39;49m\u001b[39mutf-8\u001b[39;49m\u001b[39m'\u001b[39;49m) \u001b[39mas\u001b[39;00m json_file:\n\u001b[1;32m      5\u001b[0m     dados \u001b[39m=\u001b[39m json\u001b[39m.\u001b[39mload(json_file)\n\u001b[1;32m      7\u001b[0m lista_emocoes \u001b[39m=\u001b[39m []\n",
      "\u001b[0;31mFileNotFoundError\u001b[0m: [Errno 2] No such file or directory: 'm003_sad_024-analyses_v2.json'"
     ]
    }
   ],
   "source": [
    "from collections import Counter\n",
    "import json\n",
    "\n",
    "with open(\"m003_sad_024-analyses.json\", encoding='utf-8') as json_file:\n",
    "    dados = json.load(json_file)\n",
    "\n",
    "lista_emocoes = []\n",
    "\n",
    "for i in dados:\n",
    "    lista_emocoes.append(i['MOST_RELEVANT'][0])\n",
    "\n",
    "print(\"Total frames: \", len(lista_emocoes))\n",
    "print(Counter(lista_emocoes))"
   ]
  },
  {
   "cell_type": "code",
   "execution_count": 2,
   "metadata": {},
   "outputs": [
    {
     "name": "stdout",
     "output_type": "stream",
     "text": [
      "Total frames:  85\n",
      "Counter({'fear': 34, 'neutral': 24, 'happy': 20, 'sad': 4, 'angry': 1, 'surprise': 1, 'disgust': 1})\n"
     ]
    }
   ],
   "source": [
    "from collections import Counter\n",
    "import json\n",
    "\n",
    "with open(\"m003_sad_024.mp4_face_detection.json\", encoding='utf-8') as json_file:\n",
    "    dados = json.load(json_file)\n",
    "\n",
    "lista_emocoes = []\n",
    "lista_emocoes = list(dados.values())\n",
    "\n",
    "print(\"Total frames: \", len(lista_emocoes))\n",
    "print(Counter(lista_emocoes))"
   ]
  },
  {
   "cell_type": "code",
   "execution_count": null,
   "metadata": {},
   "outputs": [],
   "source": []
  },
  {
   "cell_type": "code",
   "execution_count": null,
   "metadata": {},
   "outputs": [],
   "source": []
  }
 ],
 "metadata": {
  "kernelspec": {
   "display_name": "Python 3.10.7 ('env': venv)",
   "language": "python",
   "name": "python3"
  },
  "language_info": {
   "codemirror_mode": {
    "name": "ipython",
    "version": 3
   },
   "file_extension": ".py",
   "mimetype": "text/x-python",
   "name": "python",
   "nbconvert_exporter": "python",
   "pygments_lexer": "ipython3",
   "version": "3.10.7"
  },
  "orig_nbformat": 4,
  "vscode": {
   "interpreter": {
    "hash": "5118e3e5b0779030f8e981d96ab84583fcf6a096a2c9f0ce783c612e824e045c"
   }
  }
 },
 "nbformat": 4,
 "nbformat_minor": 2
}
