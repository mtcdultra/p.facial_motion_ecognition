{
 "cells": [
  {
   "cell_type": "code",
   "execution_count": 3,
   "metadata": {},
   "outputs": [
    {
     "name": "stdout",
     "output_type": "stream",
     "text": [
      "Total frames:  85\n",
      "Counter({'Fear': 23, 'Surprise': 19, 'Sad': 19, 'Happy': 16, 'Neutral': 8})\n"
     ]
    }
   ],
   "source": [
    "from collections import Counter\n",
    "import json\n",
    "\n",
    "with open(\"m003_fear_001-analyses_v2.json\", encoding='utf-8') as json_file:\n",
    "    dados = json.load(json_file)\n",
    "\n",
    "lista_emocoes = []\n",
    "\n",
    "for i in dados:\n",
    "    lista_emocoes.append(i['MOST_RELEVANT'][0])\n",
    "\n",
    "print(\"Total frames: \", len(lista_emocoes))\n",
    "print(Counter(lista_emocoes))"
   ]
  },
  {
   "cell_type": "code",
   "execution_count": 2,
   "metadata": {},
   "outputs": [
    {
     "name": "stdout",
     "output_type": "stream",
     "text": [
      "Total frames:  85\n",
      "Counter({'fear': 34, 'neutral': 24, 'happy': 20, 'sad': 4, 'angry': 1, 'surprise': 1, 'disgust': 1})\n"
     ]
    }
   ],
   "source": [
    "from collections import Counter\n",
    "import json\n",
    "\n",
    "with open(\"m003_fear_001.mp4_face_detection.json\", encoding='utf-8') as json_file:\n",
    "    dados = json.load(json_file)\n",
    "\n",
    "lista_emocoes = []\n",
    "lista_emocoes = list(dados.values())\n",
    "\n",
    "print(\"Total frames: \", len(lista_emocoes))\n",
    "print(Counter(lista_emocoes))"
   ]
  },
  {
   "cell_type": "code",
   "execution_count": null,
   "metadata": {},
   "outputs": [],
   "source": []
  },
  {
   "cell_type": "code",
   "execution_count": null,
   "metadata": {},
   "outputs": [],
   "source": []
  }
 ],
 "metadata": {
  "kernelspec": {
   "display_name": "Python 3.10.7 ('env': venv)",
   "language": "python",
   "name": "python3"
  },
  "language_info": {
   "codemirror_mode": {
    "name": "ipython",
    "version": 3
   },
   "file_extension": ".py",
   "mimetype": "text/x-python",
   "name": "python",
   "nbconvert_exporter": "python",
   "pygments_lexer": "ipython3",
   "version": "3.10.7"
  },
  "orig_nbformat": 4,
  "vscode": {
   "interpreter": {
    "hash": "5118e3e5b0779030f8e981d96ab84583fcf6a096a2c9f0ce783c612e824e045c"
   }
  }
 },
 "nbformat": 4,
 "nbformat_minor": 2
}
